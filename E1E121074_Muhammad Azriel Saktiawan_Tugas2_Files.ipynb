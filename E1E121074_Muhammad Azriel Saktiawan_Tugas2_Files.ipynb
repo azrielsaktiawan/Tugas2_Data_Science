{
 "cells": [
  {
   "cell_type": "markdown",
   "id": "d51d3e0a",
   "metadata": {},
   "source": [
    "## Exercise Files Week 2\n",
    "\n",
    "Write the code to open the 'invoices.csv' file for reading, and then print only the heading 'Invoice No' and the data for the invoice numbers.\n",
    "\n",
    "Use the following comments to guide you"
   ]
  },
  {
   "cell_type": "code",
   "execution_count": 2,
   "id": "57fbc0fb",
   "metadata": {},
   "outputs": [
    {
     "name": "stdout",
     "output_type": "stream",
     "text": [
      "<_io.TextIOWrapper name='D:/My Data ALL/Downloads/Week 2/invoices.csv' mode='r' encoding='cp1252'>\n",
      "Invoice No, Customer Name, Date, Invoice Amount\n",
      "13002, Lighthouse Entertainment, 13 Jan 2020, $45.60\n",
      "13003, Main Street News, 13 Jan 2020, $100.20\n",
      "13003, Lee Enterprise, 14 Jan 2020, $30.00\n",
      "13004, Raju Store, 14 Jan 2020, $300.20\n",
      "\n",
      "Invoice No\n"
     ]
    }
   ],
   "source": [
    "# open the file for reading\n",
    "myfile = open('D:/My Data ALL/Downloads/Week 2/invoices.csv')\n",
    "print(myfile)\n",
    "\n",
    "# read all the lines\n",
    "myfile = open('D:/My Data ALL/Downloads/Week 2/invoices.csv', 'r')\n",
    "print(myfile.read())\n",
    "\n",
    "# header is the first element in the list of lines\n",
    "with open('D:/My Data ALL/Downloads/Week 2/invoices.csv', 'r', newline='') as file:\n",
    "    header_line = file.readline().strip()  \n",
    "    \n",
    "# use a split() function to separate the header names by the comma\n",
    "    header_names = header_line.split(',')\n",
    "\n",
    "# print the first element of the header names after splitting\n",
    "    if header_names:\n",
    "        print(header_names[0])\n",
    "\n",
    "# use a for loop (with a slice starting at index 1) for the rest of the lines\n",
    "for line in myfile:\n",
    "    # separate the line at the colon\n",
    "    parts = line.split(\":\")\n",
    "    \n",
    "    # print the split parts \n",
    "    print(parts)\n",
    "    \n",
    "    # print only the data\n",
    "    print(parts[0])\n",
    "    \n",
    "# close the file\n",
    "\n",
    "myfile.close()"
   ]
  },
  {
   "cell_type": "markdown",
   "id": "071d6725",
   "metadata": {},
   "source": [
    "Being able to extract just the invoice numbers is useful, because it will help us to keep track of the running number.\n",
    "\n",
    "In this lesson, we have learned how to read and write from files. However, there are many data science libraries that have simplified these operations, and we will make use of the pandas library to read CSV files.\n",
    "\n"
   ]
  }
 ],
 "metadata": {
  "kernelspec": {
   "display_name": "Python 3 (ipykernel)",
   "language": "python",
   "name": "python3"
  },
  "language_info": {
   "codemirror_mode": {
    "name": "ipython",
    "version": 3
   },
   "file_extension": ".py",
   "mimetype": "text/x-python",
   "name": "python",
   "nbconvert_exporter": "python",
   "pygments_lexer": "ipython3",
   "version": "3.11.4"
  }
 },
 "nbformat": 4,
 "nbformat_minor": 5
}
